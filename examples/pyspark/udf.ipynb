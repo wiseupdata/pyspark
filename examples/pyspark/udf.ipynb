{
 "cells": [
  {
   "cell_type": "markdown",
   "metadata": {},
   "source": [
    "> Create a virtual Env.\n",
    "> Example:\n",
    ">\n",
    "> 1. create a simple new env\n",
    ">\n",
    ">    ```\n",
    ">    pyenv virtualenv 3.10.6 .envPyspark\n",
    ">    pyenv activate .envPyspark\n",
    ">    ```\n",
    ">\n",
    "> 2. install the requirements\n",
    ">    ```\n",
    ">    pip install --upgrade pip \n",
    ">    pip install ipykernel pyspark==3.4.0 pandas pyarrow\n",
    ">    ```\n",
    ">\n",
    "> 3. Set as the kernel for your notebook"
   ]
  },
  {
   "cell_type": "markdown",
   "metadata": {},
   "source": [
    "# Create the spark session"
   ]
  },
  {
   "cell_type": "code",
   "execution_count": 1,
   "metadata": {},
   "outputs": [
    {
     "name": "stderr",
     "output_type": "stream",
     "text": [
      "your 131072x1 screen size is bogus. expect trouble\n",
      "23/12/11 21:30:17 WARN Utils: Your hostname, DESKTOP-O03M3NM resolves to a loopback address: 127.0.1.1; using 172.26.72.227 instead (on interface eth0)\n",
      "23/12/11 21:30:17 WARN Utils: Set SPARK_LOCAL_IP if you need to bind to another address\n",
      "Setting default log level to \"WARN\".\n",
      "To adjust logging level use sc.setLogLevel(newLevel). For SparkR, use setLogLevel(newLevel).\n",
      "23/12/11 21:30:19 WARN NativeCodeLoader: Unable to load native-hadoop library for your platform... using builtin-java classes where applicable\n"
     ]
    }
   ],
   "source": [
    "from pyspark.sql import SparkSession\n",
    "from pyspark.sql.dataframe import DataFrame\n",
    "\n",
    "spark: SparkSession = (\n",
    "    SparkSession.builder\n",
    "        .appName('UDFApp')\n",
    "        .getOrCreate()\n",
    "    )\n",
    "\n",
    "df: DataFrame = (\n",
    "    spark.createDataFrame([{'name': 'josh'}])\n",
    ")"
   ]
  },
  {
   "cell_type": "markdown",
   "metadata": {},
   "source": [
    "# Basic visualization"
   ]
  },
  {
   "cell_type": "markdown",
   "metadata": {},
   "source": [
    "## Imports necessary\n",
    "> You need to install pandas"
   ]
  },
  {
   "cell_type": "code",
   "execution_count": 34,
   "metadata": {},
   "outputs": [],
   "source": [
    "import pandas as pd\n",
    "from pyspark.sql.functions import pandas_udf\n",
    "import pyspark.sql.functions as F"
   ]
  },
  {
   "cell_type": "markdown",
   "metadata": {},
   "source": [
    "## Create a simple function"
   ]
  },
  {
   "cell_type": "code",
   "execution_count": 32,
   "metadata": {},
   "outputs": [
    {
     "name": "stdout",
     "output_type": "stream",
     "text": [
      "Column<'concat_suffix(test)'>\n"
     ]
    }
   ],
   "source": [
    "@pandas_udf('string')\n",
    "def concat_suffix(series):\n",
    "    series = series + \"_added\"\n",
    "    return series\n",
    "\n",
    "print(concat_suffix('test'))"
   ]
  },
  {
   "cell_type": "code",
   "execution_count": 37,
   "metadata": {},
   "outputs": [
    {
     "name": "stderr",
     "output_type": "stream",
     "text": [
      "[Stage 11:======================================>                   (2 + 1) / 3]\r"
     ]
    },
    {
     "name": "stdout",
     "output_type": "stream",
     "text": [
      "+----------+\n",
      "|      name|\n",
      "+----------+\n",
      "|josh_added|\n",
      "+----------+\n",
      "\n"
     ]
    },
    {
     "name": "stderr",
     "output_type": "stream",
     "text": [
      "                                                                                \r"
     ]
    }
   ],
   "source": [
    "(\n",
    "    df\n",
    "    .select(concat_suffix(F.col('name')).alias('name'))\n",
    "    .show()\n",
    ")"
   ]
  },
  {
   "cell_type": "markdown",
   "metadata": {},
   "source": [
    "# References\n",
    "\n",
    "1. https://spark.apache.org/docs/3.4.0/api/python/reference/index.html"
   ]
  }
 ],
 "metadata": {
  "kernelspec": {
   "display_name": ".envPyspark",
   "language": "python",
   "name": "python3"
  },
  "language_info": {
   "codemirror_mode": {
    "name": "ipython",
    "version": 3
   },
   "file_extension": ".py",
   "mimetype": "text/x-python",
   "name": "python",
   "nbconvert_exporter": "python",
   "pygments_lexer": "ipython3",
   "version": "3.10.6"
  }
 },
 "nbformat": 4,
 "nbformat_minor": 2
}
