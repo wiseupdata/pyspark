{
 "cells": [
  {
   "cell_type": "markdown",
   "metadata": {},
   "source": [
    "> Create a virtual Env.\n",
    "> Example:\n",
    ">\n",
    "> 1. create a simple new env\n",
    ">\n",
    ">    ```\n",
    ">    pyenv virtualenv 3.10.6 .envPyspark\n",
    ">    pyenv activate .envPyspark\n",
    ">    ```\n",
    ">\n",
    "> 2. install the requirements\n",
    ">    ```\n",
    ">    pip install --upgrade pip \n",
    ">\n",
    ">    pip install ipykernel pyspark==3.4.0\n",
    ">    ```\n",
    ">\n",
    "> 3. Set as the kernel for your notebook"
   ]
  },
  {
   "cell_type": "markdown",
   "metadata": {},
   "source": [
    "# Create the spark session"
   ]
  },
  {
   "cell_type": "code",
   "execution_count": 31,
   "metadata": {},
   "outputs": [],
   "source": [
    "from pyspark.sql import SparkSession\n",
    "from pyspark.sql.dataframe import DataFrame\n",
    "import pyspark.sql.functions as F\n",
    "\n",
    "spark.conf.set('spark.sql.repl.eagerEval.enabled', True)\n",
    "\n",
    "spark: SparkSession = (\n",
    "    SparkSession.builder\n",
    "        .appName('Visualizations')\n",
    "        .getOrCreate()\n",
    "    )\n",
    "\n",
    "df: DataFrame = (\n",
    "    spark.range(10000)\n",
    ")"
   ]
  },
  {
   "cell_type": "markdown",
   "metadata": {},
   "source": [
    "# Basic visualization"
   ]
  },
  {
   "cell_type": "code",
   "execution_count": 45,
   "metadata": {},
   "outputs": [
    {
     "name": "stderr",
     "output_type": "stream",
     "text": [
      "                                                                                \r"
     ]
    },
    {
     "data": {
      "text/html": [
       "<table border='1'>\n",
       "<tr><th>summary</th><th>id</th></tr>\n",
       "<tr><td>count</td><td>10000</td></tr>\n",
       "<tr><td>mean</td><td>4999.5</td></tr>\n",
       "<tr><td>stddev</td><td>2886.8956799071675</td></tr>\n",
       "<tr><td>min</td><td>0</td></tr>\n",
       "<tr><td>25%</td><td>2499</td></tr>\n",
       "<tr><td>50%</td><td>4999</td></tr>\n",
       "<tr><td>75%</td><td>7499</td></tr>\n",
       "<tr><td>max</td><td>9999</td></tr>\n",
       "</table>\n"
      ],
      "text/plain": [
       "+-------+------------------+\n",
       "|summary|                id|\n",
       "+-------+------------------+\n",
       "|  count|             10000|\n",
       "|   mean|            4999.5|\n",
       "| stddev|2886.8956799071675|\n",
       "|    min|                 0|\n",
       "|    25%|              2499|\n",
       "|    50%|              4999|\n",
       "|    75%|              7499|\n",
       "|    max|              9999|\n",
       "+-------+------------------+"
      ]
     },
     "execution_count": 45,
     "metadata": {},
     "output_type": "execute_result"
    }
   ],
   "source": [
    "df.summary()"
   ]
  },
  {
   "cell_type": "markdown",
   "metadata": {},
   "source": [
    "# Sample"
   ]
  },
  {
   "cell_type": "markdown",
   "metadata": {},
   "source": [
    "## Sample unique"
   ]
  },
  {
   "cell_type": "code",
   "execution_count": 46,
   "metadata": {},
   "outputs": [
    {
     "name": "stdout",
     "output_type": "stream",
     "text": [
      "+---+---+\n",
      "| id| qt|\n",
      "+---+---+\n",
      "+---+---+\n",
      "\n"
     ]
    }
   ],
   "source": [
    "(\n",
    "    df\n",
    "    .groupBy('id')\n",
    "    .agg(F.count(F.col('id')).alias('qt'))\n",
    "    .filter(\"qt > 1\")\n",
    ").show()\n"
   ]
  },
  {
   "cell_type": "markdown",
   "metadata": {},
   "source": [
    "## Sample with duplicates"
   ]
  },
  {
   "cell_type": "code",
   "execution_count": 44,
   "metadata": {},
   "outputs": [
    {
     "name": "stdout",
     "output_type": "stream",
     "text": [
      "+----+---+\n",
      "|  id| qt|\n",
      "+----+---+\n",
      "| 164|  2|\n",
      "| 516|  2|\n",
      "| 653|  2|\n",
      "| 821|  2|\n",
      "| 883|  2|\n",
      "|1289|  2|\n",
      "|1324|  2|\n",
      "|1798|  2|\n",
      "|1993|  2|\n",
      "|2034|  2|\n",
      "|2139|  2|\n",
      "|2912|  2|\n",
      "|3290|  2|\n",
      "|3847|  2|\n",
      "|3883|  2|\n",
      "|4038|  2|\n",
      "|4068|  2|\n",
      "|4122|  3|\n",
      "|4134|  2|\n",
      "|4275|  2|\n",
      "+----+---+\n",
      "only showing top 20 rows\n",
      "\n"
     ]
    }
   ],
   "source": [
    "df_sample: DataFrame = df.sample(seed=42, fraction=0.1, withReplacement= True)\n",
    "\n",
    "(\n",
    "    df_sample\n",
    "    .groupBy('id')\n",
    "    .agg(F.count(F.col('id')).alias('qt'))\n",
    "    .filter(\"qt > 1\")\n",
    ").show()"
   ]
  },
  {
   "cell_type": "markdown",
   "metadata": {},
   "source": [
    "# References\n",
    "\n",
    "1. https://spark.apache.org/docs/3.4.0/api/python/reference/index.html"
   ]
  }
 ],
 "metadata": {
  "kernelspec": {
   "display_name": ".envPyspark",
   "language": "python",
   "name": "python3"
  },
  "language_info": {
   "codemirror_mode": {
    "name": "ipython",
    "version": 3
   },
   "file_extension": ".py",
   "mimetype": "text/x-python",
   "name": "python",
   "nbconvert_exporter": "python",
   "pygments_lexer": "ipython3",
   "version": "3.10.6"
  }
 },
 "nbformat": 4,
 "nbformat_minor": 2
}
